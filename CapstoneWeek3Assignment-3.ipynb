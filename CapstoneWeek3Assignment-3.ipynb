{
 "cells": [
  {
   "cell_type": "markdown",
   "metadata": {},
   "source": [
    "<B>This NoteBook is for Segmenting and Clustering Neighborhoods in Toronto.</B></n></n>\n",
    "\n",
    "Resolve dependancy if any, Install beautifulsoup4 and request pakage. \n",
    "\n"
   ]
  },
  {
   "cell_type": "code",
   "execution_count": 5,
   "metadata": {},
   "outputs": [
    {
     "name": "stdout",
     "output_type": "stream",
     "text": [
      "Requirement already satisfied: beautifulsoup4 in /home/jupyterlab/conda/lib/python3.6/site-packages (4.6.0)\n",
      "\u001b[31mdistributed 1.21.8 requires msgpack, which is not installed.\u001b[0m\n",
      "Requirement already satisfied: requests in /home/jupyterlab/conda/lib/python3.6/site-packages (2.18.4)\n",
      "Requirement already satisfied: chardet<3.1.0,>=3.0.2 in /home/jupyterlab/conda/lib/python3.6/site-packages (from requests) (3.0.4)\n",
      "Requirement already satisfied: idna<2.7,>=2.5 in /home/jupyterlab/conda/lib/python3.6/site-packages (from requests) (2.6)\n",
      "Requirement already satisfied: urllib3<1.23,>=1.21.1 in /home/jupyterlab/conda/lib/python3.6/site-packages (from requests) (1.22)\n",
      "Requirement already satisfied: certifi>=2017.4.17 in /home/jupyterlab/conda/lib/python3.6/site-packages (from requests) (2018.10.15)\n",
      "\u001b[31mdistributed 1.21.8 requires msgpack, which is not installed.\u001b[0m\n"
     ]
    }
   ],
   "source": [
    "!pip install beautifulsoup4\n",
    "!pip install requests"
   ]
  },
  {
   "cell_type": "markdown",
   "metadata": {},
   "source": [
    "<H3>Steps</H3>\n",
    "\n",
    "i)   Import required libraries like pd, beautifulSoup, request.\n",
    "\n",
    "ii)  Get the html request object for wikipedia web of postal codes of canada.\n",
    "\n",
    "iii) Using beautifulsoup object get table tag data.\n",
    "\n",
    "iv)  Iterate through HTML table, read all table row <tr>  and table data <td> and create list\n",
    "    \n",
    "V)   Create Pandas Dataframe from list."
   ]
  },
  {
   "cell_type": "code",
   "execution_count": 6,
   "metadata": {},
   "outputs": [
    {
     "data": {
      "text/html": [
       "<div>\n",
       "<style scoped>\n",
       "    .dataframe tbody tr th:only-of-type {\n",
       "        vertical-align: middle;\n",
       "    }\n",
       "\n",
       "    .dataframe tbody tr th {\n",
       "        vertical-align: top;\n",
       "    }\n",
       "\n",
       "    .dataframe thead th {\n",
       "        text-align: right;\n",
       "    }\n",
       "</style>\n",
       "<table border=\"1\" class=\"dataframe\">\n",
       "  <thead>\n",
       "    <tr style=\"text-align: right;\">\n",
       "      <th></th>\n",
       "      <th>PostalCode</th>\n",
       "      <th>Borough</th>\n",
       "      <th>Neighbourhood</th>\n",
       "    </tr>\n",
       "  </thead>\n",
       "  <tbody>\n",
       "    <tr>\n",
       "      <th>0</th>\n",
       "      <td>M1A</td>\n",
       "      <td>Not assigned</td>\n",
       "      <td>Not assigned</td>\n",
       "    </tr>\n",
       "    <tr>\n",
       "      <th>1</th>\n",
       "      <td>M2A</td>\n",
       "      <td>Not assigned</td>\n",
       "      <td>Not assigned</td>\n",
       "    </tr>\n",
       "    <tr>\n",
       "      <th>2</th>\n",
       "      <td>M3A</td>\n",
       "      <td>North York</td>\n",
       "      <td>Parkwoods</td>\n",
       "    </tr>\n",
       "    <tr>\n",
       "      <th>3</th>\n",
       "      <td>M4A</td>\n",
       "      <td>North York</td>\n",
       "      <td>Victoria Village</td>\n",
       "    </tr>\n",
       "    <tr>\n",
       "      <th>4</th>\n",
       "      <td>M5A</td>\n",
       "      <td>Downtown Toronto</td>\n",
       "      <td>Harbourfront</td>\n",
       "    </tr>\n",
       "    <tr>\n",
       "      <th>5</th>\n",
       "      <td>M5A</td>\n",
       "      <td>Downtown Toronto</td>\n",
       "      <td>Regent Park</td>\n",
       "    </tr>\n",
       "    <tr>\n",
       "      <th>6</th>\n",
       "      <td>M6A</td>\n",
       "      <td>North York</td>\n",
       "      <td>Lawrence Heights</td>\n",
       "    </tr>\n",
       "    <tr>\n",
       "      <th>7</th>\n",
       "      <td>M6A</td>\n",
       "      <td>North York</td>\n",
       "      <td>Lawrence Manor</td>\n",
       "    </tr>\n",
       "    <tr>\n",
       "      <th>8</th>\n",
       "      <td>M7A</td>\n",
       "      <td>Queen's Park</td>\n",
       "      <td>Not assigned</td>\n",
       "    </tr>\n",
       "    <tr>\n",
       "      <th>9</th>\n",
       "      <td>M8A</td>\n",
       "      <td>Not assigned</td>\n",
       "      <td>Not assigned</td>\n",
       "    </tr>\n",
       "  </tbody>\n",
       "</table>\n",
       "</div>"
      ],
      "text/plain": [
       "  PostalCode           Borough     Neighbourhood\n",
       "0        M1A      Not assigned      Not assigned\n",
       "1        M2A      Not assigned      Not assigned\n",
       "2        M3A        North York         Parkwoods\n",
       "3        M4A        North York  Victoria Village\n",
       "4        M5A  Downtown Toronto      Harbourfront\n",
       "5        M5A  Downtown Toronto       Regent Park\n",
       "6        M6A        North York  Lawrence Heights\n",
       "7        M6A        North York    Lawrence Manor\n",
       "8        M7A      Queen's Park      Not assigned\n",
       "9        M8A      Not assigned      Not assigned"
      ]
     },
     "execution_count": 6,
     "metadata": {},
     "output_type": "execute_result"
    }
   ],
   "source": [
    "import pandas as pd           # library to process data as dataframes\n",
    "from bs4 import BeautifulSoup # library to process html page\n",
    "import requests               # library to request data object\n",
    "\n",
    "html = requests.get('https://en.wikipedia.org/wiki/List_of_postal_codes_of_Canada:_M').text\n",
    "\n",
    "soup = BeautifulSoup(html, \"lxml\")\n",
    "\n",
    "table = soup.find('table', attrs={'class':'wikitable sortable'}) # Get HTML table tag data\n",
    "table_rows = table.find_all('tr')                  ## find all table row in table\n",
    "\n",
    "res = []\n",
    "for tr in table_rows:                        ## Iterate and create all list from table data.\n",
    "    td = tr.find_all('td')\n",
    "    row = [tr.text.strip() for tr in td if tr.text.strip()]\n",
    "    if row:\n",
    "        res.append(row)\n",
    "\n",
    "### Create DataFrame from HTML table list in above step and name columns.\n",
    "df = pd.DataFrame(res, columns=[\"PostalCode\", \"Borough\", \"Neighbourhood\"])\n",
    "df.head(10)"
   ]
  },
  {
   "cell_type": "markdown",
   "metadata": {},
   "source": [
    "<H3>Count the size of dataframe after creating from HTML table</H3>"
   ]
  },
  {
   "cell_type": "code",
   "execution_count": 3,
   "metadata": {},
   "outputs": [
    {
     "data": {
      "text/plain": [
       "(289, 3)"
      ]
     },
     "execution_count": 3,
     "metadata": {},
     "output_type": "execute_result"
    }
   ],
   "source": [
    "df.shape"
   ]
  },
  {
   "cell_type": "markdown",
   "metadata": {},
   "source": [
    "<H3>Steps</H3>\n",
    "\n",
    "i) Filter rows if any Borough have 'Not assigned' value.\n",
    "\n",
    "ii) Replace Neighbourhood values with Borough if Neighbourhood is having value 'Not assigned'."
   ]
  },
  {
   "cell_type": "code",
   "execution_count": 7,
   "metadata": {},
   "outputs": [
    {
     "data": {
      "text/html": [
       "<div>\n",
       "<style scoped>\n",
       "    .dataframe tbody tr th:only-of-type {\n",
       "        vertical-align: middle;\n",
       "    }\n",
       "\n",
       "    .dataframe tbody tr th {\n",
       "        vertical-align: top;\n",
       "    }\n",
       "\n",
       "    .dataframe thead th {\n",
       "        text-align: right;\n",
       "    }\n",
       "</style>\n",
       "<table border=\"1\" class=\"dataframe\">\n",
       "  <thead>\n",
       "    <tr style=\"text-align: right;\">\n",
       "      <th></th>\n",
       "      <th>index</th>\n",
       "      <th>PostalCode</th>\n",
       "      <th>Borough</th>\n",
       "      <th>Neighbourhood</th>\n",
       "    </tr>\n",
       "  </thead>\n",
       "  <tbody>\n",
       "    <tr>\n",
       "      <th>0</th>\n",
       "      <td>2</td>\n",
       "      <td>M3A</td>\n",
       "      <td>North York</td>\n",
       "      <td>Parkwoods</td>\n",
       "    </tr>\n",
       "    <tr>\n",
       "      <th>1</th>\n",
       "      <td>3</td>\n",
       "      <td>M4A</td>\n",
       "      <td>North York</td>\n",
       "      <td>Victoria Village</td>\n",
       "    </tr>\n",
       "    <tr>\n",
       "      <th>2</th>\n",
       "      <td>4</td>\n",
       "      <td>M5A</td>\n",
       "      <td>Downtown Toronto</td>\n",
       "      <td>Harbourfront</td>\n",
       "    </tr>\n",
       "    <tr>\n",
       "      <th>3</th>\n",
       "      <td>5</td>\n",
       "      <td>M5A</td>\n",
       "      <td>Downtown Toronto</td>\n",
       "      <td>Regent Park</td>\n",
       "    </tr>\n",
       "    <tr>\n",
       "      <th>4</th>\n",
       "      <td>6</td>\n",
       "      <td>M6A</td>\n",
       "      <td>North York</td>\n",
       "      <td>Lawrence Heights</td>\n",
       "    </tr>\n",
       "    <tr>\n",
       "      <th>5</th>\n",
       "      <td>7</td>\n",
       "      <td>M6A</td>\n",
       "      <td>North York</td>\n",
       "      <td>Lawrence Manor</td>\n",
       "    </tr>\n",
       "    <tr>\n",
       "      <th>6</th>\n",
       "      <td>8</td>\n",
       "      <td>M7A</td>\n",
       "      <td>Queen's Park</td>\n",
       "      <td>Queen's Park</td>\n",
       "    </tr>\n",
       "    <tr>\n",
       "      <th>7</th>\n",
       "      <td>10</td>\n",
       "      <td>M9A</td>\n",
       "      <td>Etobicoke</td>\n",
       "      <td>Islington Avenue</td>\n",
       "    </tr>\n",
       "    <tr>\n",
       "      <th>8</th>\n",
       "      <td>11</td>\n",
       "      <td>M1B</td>\n",
       "      <td>Scarborough</td>\n",
       "      <td>Rouge</td>\n",
       "    </tr>\n",
       "    <tr>\n",
       "      <th>9</th>\n",
       "      <td>12</td>\n",
       "      <td>M1B</td>\n",
       "      <td>Scarborough</td>\n",
       "      <td>Malvern</td>\n",
       "    </tr>\n",
       "  </tbody>\n",
       "</table>\n",
       "</div>"
      ],
      "text/plain": [
       "   index PostalCode           Borough     Neighbourhood\n",
       "0      2        M3A        North York         Parkwoods\n",
       "1      3        M4A        North York  Victoria Village\n",
       "2      4        M5A  Downtown Toronto      Harbourfront\n",
       "3      5        M5A  Downtown Toronto       Regent Park\n",
       "4      6        M6A        North York  Lawrence Heights\n",
       "5      7        M6A        North York    Lawrence Manor\n",
       "6      8        M7A      Queen's Park      Queen's Park\n",
       "7     10        M9A         Etobicoke  Islington Avenue\n",
       "8     11        M1B       Scarborough             Rouge\n",
       "9     12        M1B       Scarborough           Malvern"
      ]
     },
     "execution_count": 7,
     "metadata": {},
     "output_type": "execute_result"
    }
   ],
   "source": [
    "df = df.loc[df['Borough'] != 'Not assigned'].reset_index()  # Filter 'Not assigned' Borough's\n",
    "\n",
    "df.Neighbourhood.replace('Not assigned',df.Borough,inplace=True)\n",
    "\n",
    "df.head(10)"
   ]
  },
  {
   "cell_type": "markdown",
   "metadata": {},
   "source": [
    "<H3>Count the size of dataframe after filtering 'Not assigned' Borough</H3>"
   ]
  },
  {
   "cell_type": "code",
   "execution_count": 5,
   "metadata": {},
   "outputs": [
    {
     "data": {
      "text/plain": [
       "(212, 4)"
      ]
     },
     "execution_count": 5,
     "metadata": {},
     "output_type": "execute_result"
    }
   ],
   "source": [
    "df.shape"
   ]
  },
  {
   "cell_type": "markdown",
   "metadata": {},
   "source": [
    "<H3>Steps</H3>\n",
    "\n",
    "i) Where more than one neighborhood can exist in one postal code combine two rows into one row with the neighborhoods separated with a comma."
   ]
  },
  {
   "cell_type": "code",
   "execution_count": 8,
   "metadata": {},
   "outputs": [
    {
     "data": {
      "text/html": [
       "<div>\n",
       "<style scoped>\n",
       "    .dataframe tbody tr th:only-of-type {\n",
       "        vertical-align: middle;\n",
       "    }\n",
       "\n",
       "    .dataframe tbody tr th {\n",
       "        vertical-align: top;\n",
       "    }\n",
       "\n",
       "    .dataframe thead th {\n",
       "        text-align: right;\n",
       "    }\n",
       "</style>\n",
       "<table border=\"1\" class=\"dataframe\">\n",
       "  <thead>\n",
       "    <tr style=\"text-align: right;\">\n",
       "      <th></th>\n",
       "      <th>PostalCode</th>\n",
       "      <th>Borough</th>\n",
       "      <th>Neighbourhood</th>\n",
       "    </tr>\n",
       "  </thead>\n",
       "  <tbody>\n",
       "    <tr>\n",
       "      <th>0</th>\n",
       "      <td>M1B</td>\n",
       "      <td>Scarborough</td>\n",
       "      <td>[Rouge, Malvern]</td>\n",
       "    </tr>\n",
       "    <tr>\n",
       "      <th>1</th>\n",
       "      <td>M1C</td>\n",
       "      <td>Scarborough</td>\n",
       "      <td>[Highland Creek, Rouge Hill, Port Union]</td>\n",
       "    </tr>\n",
       "    <tr>\n",
       "      <th>2</th>\n",
       "      <td>M1E</td>\n",
       "      <td>Scarborough</td>\n",
       "      <td>[Guildwood, Morningside, West Hill]</td>\n",
       "    </tr>\n",
       "    <tr>\n",
       "      <th>3</th>\n",
       "      <td>M1G</td>\n",
       "      <td>Scarborough</td>\n",
       "      <td>[Woburn]</td>\n",
       "    </tr>\n",
       "    <tr>\n",
       "      <th>4</th>\n",
       "      <td>M1H</td>\n",
       "      <td>Scarborough</td>\n",
       "      <td>[Cedarbrae]</td>\n",
       "    </tr>\n",
       "    <tr>\n",
       "      <th>5</th>\n",
       "      <td>M1J</td>\n",
       "      <td>Scarborough</td>\n",
       "      <td>[Scarborough Village]</td>\n",
       "    </tr>\n",
       "    <tr>\n",
       "      <th>6</th>\n",
       "      <td>M1K</td>\n",
       "      <td>Scarborough</td>\n",
       "      <td>[East Birchmount Park, Ionview, Kennedy Park]</td>\n",
       "    </tr>\n",
       "    <tr>\n",
       "      <th>7</th>\n",
       "      <td>M1L</td>\n",
       "      <td>Scarborough</td>\n",
       "      <td>[Clairlea, Golden Mile, Oakridge]</td>\n",
       "    </tr>\n",
       "    <tr>\n",
       "      <th>8</th>\n",
       "      <td>M1M</td>\n",
       "      <td>Scarborough</td>\n",
       "      <td>[Cliffcrest, Cliffside, Scarborough Village West]</td>\n",
       "    </tr>\n",
       "    <tr>\n",
       "      <th>9</th>\n",
       "      <td>M1N</td>\n",
       "      <td>Scarborough</td>\n",
       "      <td>[Birch Cliff, Cliffside West]</td>\n",
       "    </tr>\n",
       "  </tbody>\n",
       "</table>\n",
       "</div>"
      ],
      "text/plain": [
       "  PostalCode      Borough                                      Neighbourhood\n",
       "0        M1B  Scarborough                                   [Rouge, Malvern]\n",
       "1        M1C  Scarborough           [Highland Creek, Rouge Hill, Port Union]\n",
       "2        M1E  Scarborough                [Guildwood, Morningside, West Hill]\n",
       "3        M1G  Scarborough                                           [Woburn]\n",
       "4        M1H  Scarborough                                        [Cedarbrae]\n",
       "5        M1J  Scarborough                              [Scarborough Village]\n",
       "6        M1K  Scarborough      [East Birchmount Park, Ionview, Kennedy Park]\n",
       "7        M1L  Scarborough                  [Clairlea, Golden Mile, Oakridge]\n",
       "8        M1M  Scarborough  [Cliffcrest, Cliffside, Scarborough Village West]\n",
       "9        M1N  Scarborough                      [Birch Cliff, Cliffside West]"
      ]
     },
     "execution_count": 8,
     "metadata": {},
     "output_type": "execute_result"
    }
   ],
   "source": [
    "df = df.groupby(['PostalCode','Borough'])['Neighbourhood'].apply(list).to_frame().reset_index()\n",
    "\n",
    "df.head(10)"
   ]
  },
  {
   "cell_type": "markdown",
   "metadata": {},
   "source": [
    "<H3>Show the shape of the final data frame</H3>"
   ]
  },
  {
   "cell_type": "code",
   "execution_count": 9,
   "metadata": {},
   "outputs": [
    {
     "data": {
      "text/plain": [
       "(103, 3)"
      ]
     },
     "execution_count": 9,
     "metadata": {},
     "output_type": "execute_result"
    }
   ],
   "source": [
    "df.shape"
   ]
  },
  {
   "cell_type": "markdown",
   "metadata": {},
   "source": [
    "<H3>Install dependancy geocoder</H3>"
   ]
  },
  {
   "cell_type": "code",
   "execution_count": 8,
   "metadata": {},
   "outputs": [
    {
     "name": "stdout",
     "output_type": "stream",
     "text": [
      "Collecting geocoder\n",
      "\u001b[?25l  Downloading https://files.pythonhosted.org/packages/4f/6b/13166c909ad2f2d76b929a4227c952630ebaf0d729f6317eb09cbceccbab/geocoder-1.38.1-py2.py3-none-any.whl (98kB)\n",
      "\u001b[K    100% |████████████████████████████████| 102kB 18.9MB/s \n",
      "\u001b[?25hCollecting ratelim (from geocoder)\n",
      "  Downloading https://files.pythonhosted.org/packages/f2/98/7e6d147fd16a10a5f821db6e25f192265d6ecca3d82957a4fdd592cad49c/ratelim-0.1.6-py2.py3-none-any.whl\n",
      "Requirement already satisfied: requests in /home/jupyterlab/conda/lib/python3.6/site-packages (from geocoder) (2.18.4)\n",
      "Requirement already satisfied: future in /home/jupyterlab/conda/lib/python3.6/site-packages (from geocoder) (0.16.0)\n",
      "Requirement already satisfied: six in /home/jupyterlab/conda/lib/python3.6/site-packages (from geocoder) (1.11.0)\n",
      "Requirement already satisfied: click in /home/jupyterlab/conda/lib/python3.6/site-packages (from geocoder) (6.7)\n",
      "Requirement already satisfied: decorator in /home/jupyterlab/conda/lib/python3.6/site-packages (from ratelim->geocoder) (4.3.0)\n",
      "Requirement already satisfied: chardet<3.1.0,>=3.0.2 in /home/jupyterlab/conda/lib/python3.6/site-packages (from requests->geocoder) (3.0.4)\n",
      "Requirement already satisfied: idna<2.7,>=2.5 in /home/jupyterlab/conda/lib/python3.6/site-packages (from requests->geocoder) (2.6)\n",
      "Requirement already satisfied: urllib3<1.23,>=1.21.1 in /home/jupyterlab/conda/lib/python3.6/site-packages (from requests->geocoder) (1.22)\n",
      "Requirement already satisfied: certifi>=2017.4.17 in /home/jupyterlab/conda/lib/python3.6/site-packages (from requests->geocoder) (2018.8.24)\n",
      "\u001b[31mdistributed 1.21.8 requires msgpack, which is not installed.\u001b[0m\n",
      "Installing collected packages: ratelim, geocoder\n",
      "Successfully installed geocoder-1.38.1 ratelim-0.1.6\n"
     ]
    }
   ],
   "source": [
    "!pip install geocoder"
   ]
  },
  {
   "cell_type": "markdown",
   "metadata": {},
   "source": [
    "<H3>Get longitude and Latitude for PostalCodes of Canada </H3>"
   ]
  },
  {
   "cell_type": "code",
   "execution_count": null,
   "metadata": {},
   "outputs": [],
   "source": [
    "\n",
    "import geocoder # import geocoder\n",
    "\n",
    "## Itereate\n",
    "for i, row in df.iterrows():\n",
    "    \n",
    "    #initialize your variable to None\n",
    "    lat_lng_coords = None\n",
    "\n",
    "    # loop until you get the coordinates\n",
    "    while(lat_lng_coords is None):\n",
    "        g = geocoder.google('{}, Toronto, {}'.format(row.PostalCode,row.Borough))\n",
    "        lat_lng_coords = g.latlng\n",
    "        print(lat_lng_coords)\n",
    "        #latitude = lat_lng_coords[0]\n",
    "        #longitude = lat_lng_coords[1]\n",
    "        #print(latitude,longitude)"
   ]
  },
  {
   "cell_type": "markdown",
   "metadata": {},
   "source": [
    "<H3>As Geocoder library is not responding hence using CSV file to get latitude and longitude</H3>"
   ]
  },
  {
   "cell_type": "code",
   "execution_count": 10,
   "metadata": {},
   "outputs": [
    {
     "data": {
      "text/html": [
       "<div>\n",
       "<style scoped>\n",
       "    .dataframe tbody tr th:only-of-type {\n",
       "        vertical-align: middle;\n",
       "    }\n",
       "\n",
       "    .dataframe tbody tr th {\n",
       "        vertical-align: top;\n",
       "    }\n",
       "\n",
       "    .dataframe thead th {\n",
       "        text-align: right;\n",
       "    }\n",
       "</style>\n",
       "<table border=\"1\" class=\"dataframe\">\n",
       "  <thead>\n",
       "    <tr style=\"text-align: right;\">\n",
       "      <th></th>\n",
       "      <th>PostalCode</th>\n",
       "      <th>Latitude</th>\n",
       "      <th>Longitude</th>\n",
       "    </tr>\n",
       "  </thead>\n",
       "  <tbody>\n",
       "    <tr>\n",
       "      <th>0</th>\n",
       "      <td>M1B</td>\n",
       "      <td>43.806686</td>\n",
       "      <td>-79.194353</td>\n",
       "    </tr>\n",
       "    <tr>\n",
       "      <th>1</th>\n",
       "      <td>M1C</td>\n",
       "      <td>43.784535</td>\n",
       "      <td>-79.160497</td>\n",
       "    </tr>\n",
       "    <tr>\n",
       "      <th>2</th>\n",
       "      <td>M1E</td>\n",
       "      <td>43.763573</td>\n",
       "      <td>-79.188711</td>\n",
       "    </tr>\n",
       "    <tr>\n",
       "      <th>3</th>\n",
       "      <td>M1G</td>\n",
       "      <td>43.770992</td>\n",
       "      <td>-79.216917</td>\n",
       "    </tr>\n",
       "    <tr>\n",
       "      <th>4</th>\n",
       "      <td>M1H</td>\n",
       "      <td>43.773136</td>\n",
       "      <td>-79.239476</td>\n",
       "    </tr>\n",
       "    <tr>\n",
       "      <th>5</th>\n",
       "      <td>M1J</td>\n",
       "      <td>43.744734</td>\n",
       "      <td>-79.239476</td>\n",
       "    </tr>\n",
       "    <tr>\n",
       "      <th>6</th>\n",
       "      <td>M1K</td>\n",
       "      <td>43.727929</td>\n",
       "      <td>-79.262029</td>\n",
       "    </tr>\n",
       "    <tr>\n",
       "      <th>7</th>\n",
       "      <td>M1L</td>\n",
       "      <td>43.711112</td>\n",
       "      <td>-79.284577</td>\n",
       "    </tr>\n",
       "    <tr>\n",
       "      <th>8</th>\n",
       "      <td>M1M</td>\n",
       "      <td>43.716316</td>\n",
       "      <td>-79.239476</td>\n",
       "    </tr>\n",
       "    <tr>\n",
       "      <th>9</th>\n",
       "      <td>M1N</td>\n",
       "      <td>43.692657</td>\n",
       "      <td>-79.264848</td>\n",
       "    </tr>\n",
       "  </tbody>\n",
       "</table>\n",
       "</div>"
      ],
      "text/plain": [
       "  PostalCode   Latitude  Longitude\n",
       "0        M1B  43.806686 -79.194353\n",
       "1        M1C  43.784535 -79.160497\n",
       "2        M1E  43.763573 -79.188711\n",
       "3        M1G  43.770992 -79.216917\n",
       "4        M1H  43.773136 -79.239476\n",
       "5        M1J  43.744734 -79.239476\n",
       "6        M1K  43.727929 -79.262029\n",
       "7        M1L  43.711112 -79.284577\n",
       "8        M1M  43.716316 -79.239476\n",
       "9        M1N  43.692657 -79.264848"
      ]
     },
     "execution_count": 10,
     "metadata": {},
     "output_type": "execute_result"
    }
   ],
   "source": [
    "dfll = pd.read_csv('Geospatial_Coordinates.csv')\n",
    "dfll.head(10)"
   ]
  },
  {
   "cell_type": "code",
   "execution_count": 10,
   "metadata": {},
   "outputs": [
    {
     "data": {
      "text/plain": [
       "(103, 3)"
      ]
     },
     "execution_count": 10,
     "metadata": {},
     "output_type": "execute_result"
    }
   ],
   "source": [
    "dfll.shape"
   ]
  },
  {
   "cell_type": "markdown",
   "metadata": {},
   "source": [
    "<h3> Merge the two dataframe on Postal code, show sample data and count</h3>"
   ]
  },
  {
   "cell_type": "code",
   "execution_count": 11,
   "metadata": {},
   "outputs": [],
   "source": [
    "df = df.merge(dfll,on='PostalCode')\n"
   ]
  },
  {
   "cell_type": "code",
   "execution_count": 28,
   "metadata": {},
   "outputs": [
    {
     "data": {
      "text/html": [
       "<div>\n",
       "<style scoped>\n",
       "    .dataframe tbody tr th:only-of-type {\n",
       "        vertical-align: middle;\n",
       "    }\n",
       "\n",
       "    .dataframe tbody tr th {\n",
       "        vertical-align: top;\n",
       "    }\n",
       "\n",
       "    .dataframe thead th {\n",
       "        text-align: right;\n",
       "    }\n",
       "</style>\n",
       "<table border=\"1\" class=\"dataframe\">\n",
       "  <thead>\n",
       "    <tr style=\"text-align: right;\">\n",
       "      <th></th>\n",
       "      <th>PostalCode</th>\n",
       "      <th>Borough</th>\n",
       "      <th>Neighbourhood</th>\n",
       "      <th>Latitude</th>\n",
       "      <th>Longitude</th>\n",
       "    </tr>\n",
       "  </thead>\n",
       "  <tbody>\n",
       "    <tr>\n",
       "      <th>0</th>\n",
       "      <td>M1B</td>\n",
       "      <td>Scarborough</td>\n",
       "      <td>[Rouge, Malvern]</td>\n",
       "      <td>43.806686</td>\n",
       "      <td>-79.194353</td>\n",
       "    </tr>\n",
       "    <tr>\n",
       "      <th>1</th>\n",
       "      <td>M1C</td>\n",
       "      <td>Scarborough</td>\n",
       "      <td>[Highland Creek, Rouge Hill, Port Union]</td>\n",
       "      <td>43.784535</td>\n",
       "      <td>-79.160497</td>\n",
       "    </tr>\n",
       "    <tr>\n",
       "      <th>2</th>\n",
       "      <td>M1E</td>\n",
       "      <td>Scarborough</td>\n",
       "      <td>[Guildwood, Morningside, West Hill]</td>\n",
       "      <td>43.763573</td>\n",
       "      <td>-79.188711</td>\n",
       "    </tr>\n",
       "    <tr>\n",
       "      <th>3</th>\n",
       "      <td>M1G</td>\n",
       "      <td>Scarborough</td>\n",
       "      <td>[Woburn]</td>\n",
       "      <td>43.770992</td>\n",
       "      <td>-79.216917</td>\n",
       "    </tr>\n",
       "    <tr>\n",
       "      <th>4</th>\n",
       "      <td>M1H</td>\n",
       "      <td>Scarborough</td>\n",
       "      <td>[Cedarbrae]</td>\n",
       "      <td>43.773136</td>\n",
       "      <td>-79.239476</td>\n",
       "    </tr>\n",
       "    <tr>\n",
       "      <th>5</th>\n",
       "      <td>M1J</td>\n",
       "      <td>Scarborough</td>\n",
       "      <td>[Scarborough Village]</td>\n",
       "      <td>43.744734</td>\n",
       "      <td>-79.239476</td>\n",
       "    </tr>\n",
       "    <tr>\n",
       "      <th>6</th>\n",
       "      <td>M1K</td>\n",
       "      <td>Scarborough</td>\n",
       "      <td>[East Birchmount Park, Ionview, Kennedy Park]</td>\n",
       "      <td>43.727929</td>\n",
       "      <td>-79.262029</td>\n",
       "    </tr>\n",
       "    <tr>\n",
       "      <th>7</th>\n",
       "      <td>M1L</td>\n",
       "      <td>Scarborough</td>\n",
       "      <td>[Clairlea, Golden Mile, Oakridge]</td>\n",
       "      <td>43.711112</td>\n",
       "      <td>-79.284577</td>\n",
       "    </tr>\n",
       "    <tr>\n",
       "      <th>8</th>\n",
       "      <td>M1M</td>\n",
       "      <td>Scarborough</td>\n",
       "      <td>[Cliffcrest, Cliffside, Scarborough Village West]</td>\n",
       "      <td>43.716316</td>\n",
       "      <td>-79.239476</td>\n",
       "    </tr>\n",
       "    <tr>\n",
       "      <th>9</th>\n",
       "      <td>M1N</td>\n",
       "      <td>Scarborough</td>\n",
       "      <td>[Birch Cliff, Cliffside West]</td>\n",
       "      <td>43.692657</td>\n",
       "      <td>-79.264848</td>\n",
       "    </tr>\n",
       "  </tbody>\n",
       "</table>\n",
       "</div>"
      ],
      "text/plain": [
       "  PostalCode      Borough                                      Neighbourhood  \\\n",
       "0        M1B  Scarborough                                   [Rouge, Malvern]   \n",
       "1        M1C  Scarborough           [Highland Creek, Rouge Hill, Port Union]   \n",
       "2        M1E  Scarborough                [Guildwood, Morningside, West Hill]   \n",
       "3        M1G  Scarborough                                           [Woburn]   \n",
       "4        M1H  Scarborough                                        [Cedarbrae]   \n",
       "5        M1J  Scarborough                              [Scarborough Village]   \n",
       "6        M1K  Scarborough      [East Birchmount Park, Ionview, Kennedy Park]   \n",
       "7        M1L  Scarborough                  [Clairlea, Golden Mile, Oakridge]   \n",
       "8        M1M  Scarborough  [Cliffcrest, Cliffside, Scarborough Village West]   \n",
       "9        M1N  Scarborough                      [Birch Cliff, Cliffside West]   \n",
       "\n",
       "    Latitude  Longitude  \n",
       "0  43.806686 -79.194353  \n",
       "1  43.784535 -79.160497  \n",
       "2  43.763573 -79.188711  \n",
       "3  43.770992 -79.216917  \n",
       "4  43.773136 -79.239476  \n",
       "5  43.744734 -79.239476  \n",
       "6  43.727929 -79.262029  \n",
       "7  43.711112 -79.284577  \n",
       "8  43.716316 -79.239476  \n",
       "9  43.692657 -79.264848  "
      ]
     },
     "execution_count": 28,
     "metadata": {},
     "output_type": "execute_result"
    }
   ],
   "source": [
    "df.head(10)"
   ]
  },
  {
   "cell_type": "code",
   "execution_count": 13,
   "metadata": {},
   "outputs": [
    {
     "data": {
      "text/plain": [
       "(103, 5)"
      ]
     },
     "execution_count": 13,
     "metadata": {},
     "output_type": "execute_result"
    }
   ],
   "source": [
    "df.shape"
   ]
  },
  {
   "cell_type": "markdown",
   "metadata": {},
   "source": [
    "Import dependancy "
   ]
  },
  {
   "cell_type": "code",
   "execution_count": 1,
   "metadata": {},
   "outputs": [
    {
     "name": "stdout",
     "output_type": "stream",
     "text": [
      "Libraries imported.\n"
     ]
    }
   ],
   "source": [
    "import numpy as np # library to handle data in a vectorized manner\n",
    "\n",
    "import pandas as pd # library for data analsysis\n",
    "pd.set_option('display.max_columns', None)\n",
    "pd.set_option('display.max_rows', None)\n",
    "\n",
    "import json # library to handle JSON files\n",
    "\n",
    "##!conda install -c conda-forge geopy --yes # uncomment this line if you haven't completed the Foursquare API lab\n",
    "from geopy.geocoders import Nominatim # convert an address into latitude and longitude values\n",
    "\n",
    "import requests # library to handle requests\n",
    "from pandas.io.json import json_normalize # tranform JSON file into a pandas dataframe\n",
    "\n",
    "# Matplotlib and associated plotting modules\n",
    "import matplotlib.cm as cm\n",
    "import matplotlib.colors as colors\n",
    "\n",
    "# import k-means from clustering stage\n",
    "from sklearn.cluster import KMeans\n",
    "\n",
    "##!conda install -c conda-forge folium=0.5.0 --yes # uncomment this line if you haven't completed the Foursquare API lab\n",
    "import folium # map rendering library\n",
    "\n",
    "print('Libraries imported.')"
   ]
  },
  {
   "cell_type": "markdown",
   "metadata": {},
   "source": [
    "<H3>Get Toronto cordinates, latitude and longitude</H3>"
   ]
  },
  {
   "cell_type": "code",
   "execution_count": 2,
   "metadata": {},
   "outputs": [
    {
     "name": "stderr",
     "output_type": "stream",
     "text": [
      "/home/jupyterlab/conda/lib/python3.6/site-packages/geopy/geocoders/osm.py:143: UserWarning: Using Nominatim with the default \"geopy/1.17.0\" `user_agent` is strongly discouraged, as it violates Nominatim's ToS https://operations.osmfoundation.org/policies/nominatim/ and may possibly cause 403 and 429 HTTP errors. Please specify a custom `user_agent` with `Nominatim(user_agent=\"my-application\")` or by overriding the default `user_agent`: `geopy.geocoders.options.default_user_agent = \"my-application\"`. In geopy 2.0 this will become an exception.\n",
      "  UserWarning\n"
     ]
    },
    {
     "name": "stdout",
     "output_type": "stream",
     "text": [
      "The geograpical coordinate of New York City are 43.653963, -79.387207.\n"
     ]
    }
   ],
   "source": [
    "address = 'Toronto, Ontario'\n",
    "\n",
    "geolocator = Nominatim()\n",
    "location = geolocator.geocode(address)\n",
    "latitude = location.latitude\n",
    "longitude = location.longitude\n",
    "print('The geograpical coordinate of New York City are {}, {}.'.format(latitude, longitude))"
   ]
  },
  {
   "cell_type": "markdown",
   "metadata": {},
   "source": [
    "<H3> Get map of toronto, Ontario and superimpose borough </H3>"
   ]
  },
  {
   "cell_type": "code",
   "execution_count": 16,
   "metadata": {},
   "outputs": [
    {
     "data": {
      "text/html": [
       "<div style=\"width:100%;\"><div style=\"position:relative;width:100%;height:0;padding-bottom:60%;\"><iframe src=\"data:text/html;charset=utf-8;base64,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\" style=\"position:absolute;width:100%;height:100%;left:0;top:0;border:none !important;\" allowfullscreen webkitallowfullscreen mozallowfullscreen></iframe></div></div>"
      ],
      "text/plain": [
       "<folium.folium.Map at 0x7f43fe46f198>"
      ]
     },
     "execution_count": 16,
     "metadata": {},
     "output_type": "execute_result"
    }
   ],
   "source": [
    "# create map of Toronto,  using latitude and longitude values\n",
    "map_toronto = folium.Map(location=[latitude, longitude], zoom_start=10)\n",
    "\n",
    "# add markers to map\n",
    "for lat, lng, borough, neighborhood in zip(df['Latitude'], df['Longitude'], df['Borough'], df['Neighbourhood']):\n",
    "    label = '{}, {}'.format(neighborhood, borough)\n",
    "    label = folium.Popup(label, parse_html=True)\n",
    "    folium.CircleMarker(\n",
    "        [lat, lng],\n",
    "        radius=5,\n",
    "        popup=label,\n",
    "        color='blue',\n",
    "        fill=True,\n",
    "        fill_color='#3186cc',\n",
    "        fill_opacity=0.7,\n",
    "        parse_html=False).add_to(map_toronto)  \n",
    "    \n",
    "map_toronto"
   ]
  },
  {
   "cell_type": "markdown",
   "metadata": {},
   "source": [
    "<H4>The above map generated visualize your neighborhoods of toronto, maked with blue. Neighbourhoods in same Borough are clusted together. </n>\n",
    "    \n",
    "\n",
    "Feel free to zoom into the above map, and click on each circle mark to reveal the name of the neighborhood and its respective borough.</H4>"
   ]
  },
  {
   "cell_type": "markdown",
   "metadata": {},
   "source": [
    "let's simplify the above map and segment and cluster only the neighborhoods in <B>Central Toronto.</B> So let's slice the original dataframe and create a new dataframe of the <B>Central Toronto.</B>"
   ]
  },
  {
   "cell_type": "code",
   "execution_count": 19,
   "metadata": {},
   "outputs": [
    {
     "data": {
      "text/html": [
       "<div>\n",
       "<style scoped>\n",
       "    .dataframe tbody tr th:only-of-type {\n",
       "        vertical-align: middle;\n",
       "    }\n",
       "\n",
       "    .dataframe tbody tr th {\n",
       "        vertical-align: top;\n",
       "    }\n",
       "\n",
       "    .dataframe thead th {\n",
       "        text-align: right;\n",
       "    }\n",
       "</style>\n",
       "<table border=\"1\" class=\"dataframe\">\n",
       "  <thead>\n",
       "    <tr style=\"text-align: right;\">\n",
       "      <th></th>\n",
       "      <th>PostalCode</th>\n",
       "      <th>Borough</th>\n",
       "      <th>Neighbourhood</th>\n",
       "      <th>Latitude</th>\n",
       "      <th>Longitude</th>\n",
       "    </tr>\n",
       "  </thead>\n",
       "  <tbody>\n",
       "    <tr>\n",
       "      <th>0</th>\n",
       "      <td>M4N</td>\n",
       "      <td>Central Toronto</td>\n",
       "      <td>[Lawrence Park]</td>\n",
       "      <td>43.728020</td>\n",
       "      <td>-79.388790</td>\n",
       "    </tr>\n",
       "    <tr>\n",
       "      <th>1</th>\n",
       "      <td>M4P</td>\n",
       "      <td>Central Toronto</td>\n",
       "      <td>[Davisville North]</td>\n",
       "      <td>43.712751</td>\n",
       "      <td>-79.390197</td>\n",
       "    </tr>\n",
       "    <tr>\n",
       "      <th>2</th>\n",
       "      <td>M4R</td>\n",
       "      <td>Central Toronto</td>\n",
       "      <td>[North Toronto West]</td>\n",
       "      <td>43.715383</td>\n",
       "      <td>-79.405678</td>\n",
       "    </tr>\n",
       "    <tr>\n",
       "      <th>3</th>\n",
       "      <td>M4S</td>\n",
       "      <td>Central Toronto</td>\n",
       "      <td>[Davisville]</td>\n",
       "      <td>43.704324</td>\n",
       "      <td>-79.388790</td>\n",
       "    </tr>\n",
       "    <tr>\n",
       "      <th>4</th>\n",
       "      <td>M4T</td>\n",
       "      <td>Central Toronto</td>\n",
       "      <td>[Moore Park, Summerhill East]</td>\n",
       "      <td>43.689574</td>\n",
       "      <td>-79.383160</td>\n",
       "    </tr>\n",
       "  </tbody>\n",
       "</table>\n",
       "</div>"
      ],
      "text/plain": [
       "  PostalCode          Borough                  Neighbourhood   Latitude  \\\n",
       "0        M4N  Central Toronto                [Lawrence Park]  43.728020   \n",
       "1        M4P  Central Toronto             [Davisville North]  43.712751   \n",
       "2        M4R  Central Toronto           [North Toronto West]  43.715383   \n",
       "3        M4S  Central Toronto                   [Davisville]  43.704324   \n",
       "4        M4T  Central Toronto  [Moore Park, Summerhill East]  43.689574   \n",
       "\n",
       "   Longitude  \n",
       "0 -79.388790  \n",
       "1 -79.390197  \n",
       "2 -79.405678  \n",
       "3 -79.388790  \n",
       "4 -79.383160  "
      ]
     },
     "execution_count": 19,
     "metadata": {},
     "output_type": "execute_result"
    }
   ],
   "source": [
    "ct_data = df[df['Borough'] == 'Central Toronto'].reset_index(drop=True)\n",
    "ct_data.head()"
   ]
  },
  {
   "cell_type": "markdown",
   "metadata": {},
   "source": [
    "<H4>Let's get the geographical coordinates of <B>Central Toronto</B>.</H4>"
   ]
  },
  {
   "cell_type": "code",
   "execution_count": 23,
   "metadata": {},
   "outputs": [
    {
     "name": "stderr",
     "output_type": "stream",
     "text": [
      "/home/jupyterlab/conda/lib/python3.6/site-packages/geopy/geocoders/osm.py:143: UserWarning: Using Nominatim with the default \"geopy/1.17.0\" `user_agent` is strongly discouraged, as it violates Nominatim's ToS https://operations.osmfoundation.org/policies/nominatim/ and may possibly cause 403 and 429 HTTP errors. Please specify a custom `user_agent` with `Nominatim(user_agent=\"my-application\")` or by overriding the default `user_agent`: `geopy.geocoders.options.default_user_agent = \"my-application\"`. In geopy 2.0 this will become an exception.\n",
      "  UserWarning\n"
     ]
    },
    {
     "name": "stdout",
     "output_type": "stream",
     "text": [
      "The geograpical coordinate of Central Toronto are 43.638093, -79.4665843.\n"
     ]
    }
   ],
   "source": [
    "address = 'Central Toronto, Toronto'\n",
    "\n",
    "geolocator = Nominatim()\n",
    "location = geolocator.geocode(address)\n",
    "latitude = location.latitude\n",
    "longitude = location.longitude\n",
    "print('The geograpical coordinate of Central Toronto are {}, {}.'.format(latitude, longitude))"
   ]
  },
  {
   "cell_type": "markdown",
   "metadata": {},
   "source": [
    "<H3>As we did with all of Toronto, let's visualize Central Toronto the neighborhoods in it.</H3>"
   ]
  },
  {
   "cell_type": "code",
   "execution_count": 26,
   "metadata": {},
   "outputs": [
    {
     "data": {
      "text/html": [
       "<div style=\"width:100%;\"><div style=\"position:relative;width:100%;height:0;padding-bottom:60%;\"><iframe src=\"data:text/html;charset=utf-8;base64,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\" style=\"position:absolute;width:100%;height:100%;left:0;top:0;border:none !important;\" allowfullscreen webkitallowfullscreen mozallowfullscreen></iframe></div></div>"
      ],
      "text/plain": [
       "<folium.folium.Map at 0x7f43fca10358>"
      ]
     },
     "execution_count": 26,
     "metadata": {},
     "output_type": "execute_result"
    }
   ],
   "source": [
    "# create map of Central Toronto using latitude and longitude values\n",
    "map_ct = folium.Map(location=[latitude, longitude], zoom_start=11)\n",
    "\n",
    "# add markers to map\n",
    "for lat, lng, label in zip(ct_data['Latitude'], ct_data['Longitude'], ct_data['Neighbourhood']):\n",
    "    label = folium.Popup(label, parse_html=True)\n",
    "    folium.CircleMarker(\n",
    "        [lat, lng],\n",
    "        radius=5,\n",
    "        popup=label,\n",
    "        color='blue',\n",
    "        fill=True,\n",
    "        fill_color='#3186cc',\n",
    "        fill_opacity=0.7,\n",
    "        parse_html=False).add_to(map_ct)  \n",
    "    \n",
    "map_ct"
   ]
  },
  {
   "cell_type": "markdown",
   "metadata": {},
   "source": [
    "<H3>The above map show Central Toranto borough and neighbourhood in it</H3>"
   ]
  },
  {
   "cell_type": "code",
   "execution_count": null,
   "metadata": {},
   "outputs": [],
   "source": []
  }
 ],
 "metadata": {
  "kernelspec": {
   "display_name": "Python 3",
   "language": "python",
   "name": "python3"
  },
  "language_info": {
   "codemirror_mode": {
    "name": "ipython",
    "version": 3
   },
   "file_extension": ".py",
   "mimetype": "text/x-python",
   "name": "python",
   "nbconvert_exporter": "python",
   "pygments_lexer": "ipython3",
   "version": "3.6.5"
  }
 },
 "nbformat": 4,
 "nbformat_minor": 2
}
